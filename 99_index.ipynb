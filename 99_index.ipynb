{
 "cells": [
  {
   "cell_type": "code",
   "execution_count": null,
   "metadata": {},
   "outputs": [],
   "source": [
    "#hide\n",
    "from hfscanstat.scanstat import *"
   ]
  },
  {
   "cell_type": "markdown",
   "metadata": {},
   "source": [
    "# hfscanstat\n",
    "\n",
    "> A python implementation of the hypothesis-free multiple scan statistic with variable window for detecting clusters in point processes (L. Cucala. A hypothesis-free multiple scan statistic with variable window. Biom. J., 50 (2008), pp. 299-310). "
   ]
  },
  {
   "cell_type": "markdown",
   "metadata": {},
   "source": [
    "## Install"
   ]
  },
  {
   "cell_type": "markdown",
   "metadata": {},
   "source": [
    "`pip install hfscanstat`"
   ]
  },
  {
   "cell_type": "markdown",
   "metadata": {},
   "source": [
    "## How to use"
   ]
  },
  {
   "cell_type": "markdown",
   "metadata": {},
   "source": [
    "Using example data from Knox, G. (1959). Secular pattern of congenital oesophageal atresia. British Journal of Preventive Social Medecine 13, 222–226."
   ]
  },
  {
   "cell_type": "code",
   "execution_count": null,
   "metadata": {},
   "outputs": [
    {
     "name": "stdout",
     "output_type": "stream",
     "text": [
      "        X_i       X_j  i   j         I_H_F            ps\n",
      "0  0.525977  0.653637  7  21  7.319199e+14 -6.661338e-16\n"
     ]
    }
   ],
   "source": [
    "knox_1959 = [170, 316, 445, 468, 938, 1034, 1128, 1233, 1248, 1249,\n",
    "        1252, 1259, 1267, 1305, 1385, 1388, 1390, 1446, 1454,\n",
    "        1458, 1461, 1491, 1583, 1699, 1702, 1787, 1924, 1974,\n",
    "        2049, 2051, 2067, 2075, 2108, 2151, 2174, 2191]\n",
    "\n",
    "clusters = get_clusters(knox_1959)\n",
    "\n",
    "print(clusters)"
   ]
  },
  {
   "cell_type": "code",
   "execution_count": null,
   "metadata": {},
   "outputs": [],
   "source": []
  }
 ],
 "metadata": {
  "kernelspec": {
   "display_name": "Python 3",
   "language": "python",
   "name": "python3"
  }
 },
 "nbformat": 4,
 "nbformat_minor": 4
}
